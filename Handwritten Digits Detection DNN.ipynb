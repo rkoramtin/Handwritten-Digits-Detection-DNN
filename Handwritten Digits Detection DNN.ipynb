{
 "cells": [
  {
   "cell_type": "code",
   "execution_count": 1,
   "metadata": {},
   "outputs": [],
   "source": [
    "import torch\n",
    "import matplotlib.pyplot as plt\n",
    "import numpy as np\n",
    "from torch import nn\n",
    "import torch.nn.functional as F\n",
    "#contain many datasets like Mnist,also contains transformation of images for\n",
    "#pre process datas\n",
    "from torchvision import datasets, transforms"
   ]
  },
  {
   "cell_type": "code",
   "execution_count": 2,
   "metadata": {},
   "outputs": [],
   "source": [
    "#normalization part:here we make our data to be between 1 and -1\n",
    "#images are 28*28=784 pixels range 0 to 255\n",
    "#transform it from an array to Tensor.\n",
    "#compose make a chain of transforms\n",
    "#transforms.ToTensor() make tensor float num range 0 to 1\n",
    "#now we normalize this as first mean (0.5,0.5,0.5) and second one standard deviation of (ch,h,w)\n",
    "transform = transforms.Compose([transforms.Resize((28,28)),\n",
    "                               transforms.ToTensor(),\n",
    "                               transforms.Normalize((0.5,), (0.5,))\n",
    "                               ])\n",
    "#initialize MNIST dataset\n",
    "training_dataset = datasets.MNIST(root='./data', train=True, download=True, transform=transform)\n",
    "validation_dataset = datasets.MNIST(root='./data', train=False, download=True, transform=transform)\n",
    "#training loader which we use for batches\n",
    "#shuffle will change  subset of trainig data change every iteration and save us from local minima\n",
    "training_loader = torch.utils.data.DataLoader(training_dataset, batch_size=100, shuffle=True)\n",
    "validation_loader = torch.utils.data.DataLoader(validation_dataset, batch_size = 100, shuffle=False)"
   ]
  },
  {
   "cell_type": "code",
   "execution_count": 3,
   "metadata": {},
   "outputs": [
    {
     "data": {
      "text/plain": [
       "Dataset MNIST\n",
       "    Number of datapoints: 60000\n",
       "    Root location: ./data\n",
       "    Split: Train\n",
       "    StandardTransform\n",
       "Transform: Compose(\n",
       "               Resize(size=(28, 28), interpolation=PIL.Image.BILINEAR)\n",
       "               ToTensor()\n",
       "               Normalize(mean=(0.5,), std=(0.5,))\n",
       "           )"
      ]
     },
     "execution_count": 3,
     "metadata": {},
     "output_type": "execute_result"
    }
   ],
   "source": [
    "training_dataset"
   ]
  },
  {
   "cell_type": "code",
   "execution_count": 4,
   "metadata": {},
   "outputs": [],
   "source": [
    "#for plotting we have to convert image from tensor back to numpy arr\n",
    "def im_convert(tensor):\n",
    "    image = tensor.clone().detach().numpy() #first dim chanel second w third h\n",
    "    #its single color channel because its b and W so its 1*28*28\n",
    "    #channel=1 and w=28 and h=28\n",
    "    image = image.transpose(1, 2, 0) #we make it 28*28*1\n",
    "    #denormalizing part:\n",
    "    #subtracting the mean and devide by standard deviation\n",
    "    image = image * np.array((0.5, 0.5, 0.5)) + np.array((0.5, 0.5, 0.5))\n",
    "    #change range back to 0 to 1\n",
    "    image = image.clip(0, 1)\n",
    "    return image\n"
   ]
  },
  {
   "cell_type": "code",
   "execution_count": 5,
   "metadata": {},
   "outputs": [
    {
     "data": {
      "image/png": "[encoded data removed]",
      "text/plain": [
       "<Figure size 1800x288 with 20 Axes>"
      ]
     },
     "metadata": {},
     "output_type": "display_data"
    }
   ],
   "source": [
    "#loading image\n",
    "#training loader which we use for batches\n",
    "#iter will create an object that alows us to go iterable training_loader one elemnt at a time\n",
    "#below ia a visualization of our training data\n",
    "dataiter = iter(training_loader)\n",
    "images, labels = dataiter.next()\n",
    "fig = plt.figure(figsize=(25, 4))\n",
    "\n",
    "for idx in np.arange(20):\n",
    "    ax = fig.add_subplot(2, 10, idx+1, xticks=[], yticks=[])\n",
    "    plt.imshow(im_convert(images[idx]))\n",
    "    ax.set_title([labels[idx].item()])"
   ]
  },
  {
   "cell_type": "code",
   "execution_count": 6,
   "metadata": {},
   "outputs": [],
   "source": [
    "class Classifier(nn.Module):\n",
    "    def __init__(self, D_in, H1, H2, D_out):\n",
    "        super().__init__()\n",
    "        self.linear1 = nn.Linear(D_in, H1)\n",
    "        self.linear2 = nn.Linear(H1, H2)\n",
    "        self.linear3 = nn.Linear(H2, D_out)\n",
    "    def forward(self, x):\n",
    "        x = F.relu(self.linear1(x))  \n",
    "        x = F.relu(self.linear2(x))\n",
    "        #for multi class classification we use crossentropy loss\n",
    "        #in this cases we dont feed last layer outputs to an activation function\n",
    "        #instead we use raw output and we call them as \"Scores\"\n",
    "        x = self.linear3(x)\n",
    "        return x"
   ]
  },
  {
   "cell_type": "code",
   "execution_count": 7,
   "metadata": {},
   "outputs": [
    {
     "data": {
      "text/plain": [
       "Classifier(\n",
       "  (linear1): Linear(in_features=784, out_features=125, bias=True)\n",
       "  (linear2): Linear(in_features=125, out_features=65, bias=True)\n",
       "  (linear3): Linear(in_features=65, out_features=10, bias=True)\n",
       ")"
      ]
     },
     "execution_count": 7,
     "metadata": {},
     "output_type": "execute_result"
    }
   ],
   "source": [
    "#each image is 784 so this is input size\n",
    "#out put size is num of classes\n",
    "model = Classifier(784, 125, 65, 10)\n",
    "model"
   ]
  },
  {
   "cell_type": "code",
   "execution_count": 8,
   "metadata": {},
   "outputs": [],
   "source": [
    "#we use this for multiclass classification\n",
    "criterion = nn.CrossEntropyLoss()\n",
    "optimizer = torch.optim.Adam(model.parameters(), lr = 0.0001)"
   ]
  },
  {
   "cell_type": "code",
   "execution_count": 9,
   "metadata": {},
   "outputs": [
    {
     "name": "stdout",
     "output_type": "stream",
     "text": [
      "epoch : 1\n",
      "training loss: 0.9609, acc 76.1950 \n",
      "validation loss: 0.4347, validation acc 88.6000 \n",
      "epoch : 2\n",
      "training loss: 0.3848, acc 89.2533 \n",
      "validation loss: 0.3308, validation acc 90.4000 \n",
      "epoch : 3\n",
      "training loss: 0.3230, acc 90.7050 \n",
      "validation loss: 0.2928, validation acc 91.4500 \n",
      "epoch : 4\n",
      "training loss: 0.2917, acc 91.4067 \n",
      "validation loss: 0.2687, validation acc 92.3700 \n",
      "epoch : 5\n",
      "training loss: 0.2686, acc 92.0983 \n",
      "validation loss: 0.2506, validation acc 92.7800 \n",
      "epoch : 6\n",
      "training loss: 0.2466, acc 92.7950 \n",
      "validation loss: 0.2368, validation acc 93.2000 \n",
      "epoch : 7\n",
      "training loss: 0.2281, acc 93.4200 \n",
      "validation loss: 0.2175, validation acc 93.6100 \n",
      "epoch : 8\n",
      "training loss: 0.2100, acc 93.9467 \n",
      "validation loss: 0.1983, validation acc 94.3300 \n",
      "epoch : 9\n",
      "training loss: 0.1951, acc 94.4367 \n",
      "validation loss: 0.1856, validation acc 94.5200 \n",
      "epoch : 10\n",
      "training loss: 0.1807, acc 94.7800 \n",
      "validation loss: 0.1771, validation acc 94.7200 \n",
      "epoch : 11\n",
      "training loss: 0.1691, acc 95.1167 \n",
      "validation loss: 0.1647, validation acc 95.1000 \n",
      "epoch : 12\n",
      "training loss: 0.1588, acc 95.4067 \n",
      "validation loss: 0.1562, validation acc 95.4900 \n",
      "epoch : 13\n",
      "training loss: 0.1490, acc 95.6650 \n",
      "validation loss: 0.1463, validation acc 95.7800 \n",
      "epoch : 14\n",
      "training loss: 0.1408, acc 95.9300 \n",
      "validation loss: 0.1400, validation acc 95.8200 \n",
      "epoch : 15\n",
      "training loss: 0.1330, acc 96.1883 \n",
      "validation loss: 0.1344, validation acc 96.0000 \n"
     ]
    }
   ],
   "source": [
    "#note that every batch is 1000 here\n",
    "epochs = 15\n",
    "running_loss_history = []\n",
    "running_corrects_history = []#accuracy\n",
    "val_running_loss_history = []\n",
    "val_running_corrects_history = []\n",
    "\n",
    "for e in range(epochs):\n",
    "    running_loss = 0.0\n",
    "    running_corrects = 0.0\n",
    "    val_running_loss = 0.0\n",
    "    val_running_corrects = 0.0\n",
    "  \n",
    "  \n",
    "  \n",
    "    for inputs, labels in training_loader:\n",
    "        #reshape and flattening image\n",
    "        #1,28,28 we make it 1 dim as 784==>1,784...we let the ch dim be there\n",
    "        inputs = inputs.view(inputs.shape[0], -1)#slice 784\n",
    "        outputs = model(inputs)\n",
    "        loss = criterion(outputs, labels)\n",
    "        optimizer.zero_grad()\n",
    "        loss.backward()\n",
    "        optimizer.step()\n",
    "        _, preds = torch.max(outputs, 1)#max score is the class we use it in running_corrects\n",
    "        #runing loss is accumulated for every batch\n",
    "        running_loss += loss.item()\n",
    "        running_corrects += torch.sum(preds == labels.data)#if the predict is true\n",
    "        \n",
    "    else:\n",
    "        with torch.no_grad():#because we will not use gradients in val part\n",
    "            for val_inputs, val_labels in validation_loader:\n",
    "                val_inputs = val_inputs.view(val_inputs.shape[0], -1)\n",
    "                val_outputs = model(val_inputs)\n",
    "                val_loss = criterion(val_outputs, val_labels)\n",
    "                _, val_preds = torch.max(val_outputs, 1)\n",
    "                val_running_loss += val_loss.item()\n",
    "                val_running_corrects += torch.sum(val_preds == val_labels.data)\n",
    "        \n",
    "        #len(training_loader) is num of batches\n",
    "        epoch_loss = running_loss/len(training_loader)\n",
    "        epoch_acc = running_corrects.float()/ len(training_loader)#it gives us avg accuracy at that epoch\n",
    "        running_loss_history.append(epoch_loss)\n",
    "        running_corrects_history.append(epoch_acc)\n",
    "        val_epoch_loss = val_running_loss/len(validation_loader)\n",
    "        val_epoch_acc = val_running_corrects.float()/ len(validation_loader)\n",
    "        val_running_loss_history.append(val_epoch_loss)\n",
    "        val_running_corrects_history.append(val_epoch_acc)\n",
    "        print('epoch :', (e+1))#e stars at zero we want at 1\n",
    "        \n",
    "        print('training loss: {:.4f}, acc {:.4f} '.format(epoch_loss, epoch_acc.item()))\n",
    "        print('validation loss: {:.4f}, validation acc {:.4f} '.format(val_epoch_loss, val_epoch_acc.item()))\n",
    "        \n",
    "    \n",
    "      \n",
    "       \n",
    "   \n",
    "\n",
    "       \n",
    "    "
   ]
  },
  {
   "cell_type": "code",
   "execution_count": 10,
   "metadata": {},
   "outputs": [
    {
     "data": {
      "text/plain": [
       "<matplotlib.legend.Legend at 0x2b196b39e48>"
      ]
     },
     "execution_count": 10,
     "metadata": {},
     "output_type": "execute_result"
    },
    {
     "data": {
      "image/png": "[encoded data removed]",
      "text/plain": [
       "<Figure size 432x288 with 1 Axes>"
      ]
     },
     "metadata": {
      "needs_background": "light"
     },
     "output_type": "display_data"
    }
   ],
   "source": [
    "plt.plot(running_loss_history, label='training loss')\n",
    "plt.plot(val_running_loss_history, label='validation loss')\n",
    "plt.legend()"
   ]
  },
  {
   "cell_type": "code",
   "execution_count": 11,
   "metadata": {},
   "outputs": [
    {
     "data": {
      "text/plain": [
       "<matplotlib.legend.Legend at 0x2b196a87f88>"
      ]
     },
     "execution_count": 11,
     "metadata": {},
     "output_type": "execute_result"
    },
    {
     "data": {
      "image/png": "[encoded data removed]",
      "text/plain": [
       "<Figure size 432x288 with 1 Axes>"
      ]
     },
     "metadata": {
      "needs_background": "light"
     },
     "output_type": "display_data"
    }
   ],
   "source": [
    "plt.plot(running_corrects_history, label='training accuracy')\n",
    "plt.plot(val_running_corrects_history, label='validation accuracy')\n",
    "plt.legend()"
   ]
  }
 ],
 "metadata": {
  "kernelspec": {
   "display_name": "Python 3",
   "language": "python",
   "name": "python3"
  },
  "language_info": {
   "codemirror_mode": {
    "name": "ipython",
    "version": 3
   },
   "file_extension": ".py",
   "mimetype": "text/x-python",
   "name": "python",
   "nbconvert_exporter": "python",
   "pygments_lexer": "ipython3",
   "version": "3.7.4"
  }
 },
 "nbformat": 4,
 "nbformat_minor": 2
}
